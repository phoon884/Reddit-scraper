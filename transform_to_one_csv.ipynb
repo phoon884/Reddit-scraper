{
 "cells": [
  {
   "cell_type": "code",
   "execution_count": 92,
   "metadata": {},
   "outputs": [],
   "source": [
    "import pandas as pd\n",
    "import ast\n",
    "import numpy as np"
   ]
  },
  {
   "cell_type": "code",
   "execution_count": 93,
   "metadata": {},
   "outputs": [],
   "source": [
    "subreddits =  [[\"Liberal\",\"democrats\"], [\"Conservative\",\"Republican_clean1\"]]"
   ]
  },
  {
   "cell_type": "code",
   "execution_count": 94,
   "metadata": {},
   "outputs": [],
   "source": [
    "output = pd.DataFrame(columns=[\"text\",\"classification\"])"
   ]
  },
  {
   "cell_type": "code",
   "execution_count": 96,
   "metadata": {},
   "outputs": [],
   "source": [
    "for index, ideology in enumerate(subreddits):\n",
    "    for subreddit in ideology:\n",
    "        if index == 0:\n",
    "            classification = \"left\"\n",
    "        elif index == 1:\n",
    "            classification = \"right\"\n",
    "        else:\n",
    "             raise Exception(\"wrong index\")\n",
    "        data = pd.read_csv(f\"./{classification}/{subreddit}.csv\",index_col = 0)\n",
    "        for _ , row in data.iterrows():\n",
    "            if len(row[\"title\"])>8: \n",
    "                obj = {\n",
    "                    \"text\" : row[\"title\"],\n",
    "                    \"classification\": classification\n",
    "                }\n",
    "                output = output.append(obj,ignore_index = True)\n",
    "\n",
    "            comments = row[\"comments\"]\n",
    "            comments = ast.literal_eval(row[\"comment_list\"])\n",
    "            for comment in comments:\n",
    "                if len(comment.split(\" \")) >= 8 and len(comment) >= 8:\n",
    "                    obj = {\n",
    "                        \"text\" : comment,\n",
    "                        \"classification\": classification\n",
    "                    }\n",
    "                    output = output.append(obj,ignore_index = True)\n",
    "            \n",
    "        "
   ]
  },
  {
   "cell_type": "code",
   "execution_count": 97,
   "metadata": {},
   "outputs": [
    {
     "data": {
      "text/html": [
       "<div>\n",
       "<style scoped>\n",
       "    .dataframe tbody tr th:only-of-type {\n",
       "        vertical-align: middle;\n",
       "    }\n",
       "\n",
       "    .dataframe tbody tr th {\n",
       "        vertical-align: top;\n",
       "    }\n",
       "\n",
       "    .dataframe thead th {\n",
       "        text-align: right;\n",
       "    }\n",
       "</style>\n",
       "<table border=\"1\" class=\"dataframe\">\n",
       "  <thead>\n",
       "    <tr style=\"text-align: right;\">\n",
       "      <th></th>\n",
       "      <th>text</th>\n",
       "      <th>classification</th>\n",
       "    </tr>\n",
       "  </thead>\n",
       "  <tbody>\n",
       "    <tr>\n",
       "      <th>0</th>\n",
       "      <td>Opinion | Glenn Youngkin’s No-Guilt History of...</td>\n",
       "      <td>left</td>\n",
       "    </tr>\n",
       "    <tr>\n",
       "      <th>1</th>\n",
       "      <td>Opinion | Glenn Youngkin’s No-Guilt History of...</td>\n",
       "      <td>left</td>\n",
       "    </tr>\n",
       "    <tr>\n",
       "      <th>2</th>\n",
       "      <td>Won't be long, and they'll be banning the teac...</td>\n",
       "      <td>left</td>\n",
       "    </tr>\n",
       "    <tr>\n",
       "      <th>3</th>\n",
       "      <td>Federal Standards for education are needed. Wh...</td>\n",
       "      <td>left</td>\n",
       "    </tr>\n",
       "    <tr>\n",
       "      <th>4</th>\n",
       "      <td>They don't want to be made uncomfortable by th...</td>\n",
       "      <td>left</td>\n",
       "    </tr>\n",
       "    <tr>\n",
       "      <th>...</th>\n",
       "      <td>...</td>\n",
       "      <td>...</td>\n",
       "    </tr>\n",
       "    <tr>\n",
       "      <th>29588</th>\n",
       "      <td>When the science changes to match the politica...</td>\n",
       "      <td>right</td>\n",
       "    </tr>\n",
       "    <tr>\n",
       "      <th>29589</th>\n",
       "      <td>I personally can't wait for covid to inevitabl...</td>\n",
       "      <td>right</td>\n",
       "    </tr>\n",
       "    <tr>\n",
       "      <th>29590</th>\n",
       "      <td>I keep seeing people say this but what changed...</td>\n",
       "      <td>right</td>\n",
       "    </tr>\n",
       "    <tr>\n",
       "      <th>29591</th>\n",
       "      <td>If they had given mRNA “vaccines” more time to...</td>\n",
       "      <td>right</td>\n",
       "    </tr>\n",
       "    <tr>\n",
       "      <th>29592</th>\n",
       "      <td>Not surprised, if you ever bring up that the k...</td>\n",
       "      <td>right</td>\n",
       "    </tr>\n",
       "  </tbody>\n",
       "</table>\n",
       "<p>29593 rows × 2 columns</p>\n",
       "</div>"
      ],
      "text/plain": [
       "                                                    text classification\n",
       "0      Opinion | Glenn Youngkin’s No-Guilt History of...           left\n",
       "1      Opinion | Glenn Youngkin’s No-Guilt History of...           left\n",
       "2      Won't be long, and they'll be banning the teac...           left\n",
       "3      Federal Standards for education are needed. Wh...           left\n",
       "4      They don't want to be made uncomfortable by th...           left\n",
       "...                                                  ...            ...\n",
       "29588  When the science changes to match the politica...          right\n",
       "29589  I personally can't wait for covid to inevitabl...          right\n",
       "29590  I keep seeing people say this but what changed...          right\n",
       "29591  If they had given mRNA “vaccines” more time to...          right\n",
       "29592  Not surprised, if you ever bring up that the k...          right\n",
       "\n",
       "[29593 rows x 2 columns]"
      ]
     },
     "execution_count": 97,
     "metadata": {},
     "output_type": "execute_result"
    }
   ],
   "source": [
    "output"
   ]
  },
  {
   "cell_type": "code",
   "execution_count": 98,
   "metadata": {},
   "outputs": [],
   "source": [
    "output.to_csv(\"./dataset.csv\")"
   ]
  },
  {
   "cell_type": "code",
   "execution_count": 100,
   "metadata": {},
   "outputs": [
    {
     "name": "stdout",
     "output_type": "stream",
     "text": [
      "15530 14063\n"
     ]
    }
   ],
   "source": [
    "right = output.query('classification == \"right\"')\n",
    "left = output.query('classification == \"left\"')\n",
    "print(len(right),len(left))"
   ]
  },
  {
   "cell_type": "code",
   "execution_count": 101,
   "metadata": {},
   "outputs": [],
   "source": [
    "remove_n = len(right)-len(left)\n",
    "right = output.query('classification == \"right\"')\n",
    "drop_indices = np.random.choice(right.index, remove_n, replace=False)\n",
    "right = right.drop(drop_indices)"
   ]
  },
  {
   "cell_type": "code",
   "execution_count": 102,
   "metadata": {},
   "outputs": [
    {
     "data": {
      "text/plain": [
       "14063"
      ]
     },
     "execution_count": 102,
     "metadata": {},
     "output_type": "execute_result"
    }
   ],
   "source": [
    "len(right)"
   ]
  },
  {
   "cell_type": "code",
   "execution_count": 103,
   "metadata": {},
   "outputs": [],
   "source": [
    "new_data = left.append(right,ignore_index =True)\n",
    "new_data.to_csv('dataset_finalized')"
   ]
  },
  {
   "cell_type": "code",
   "execution_count": 90,
   "metadata": {},
   "outputs": [
    {
     "data": {
      "text/plain": [
       "28134"
      ]
     },
     "execution_count": 90,
     "metadata": {},
     "output_type": "execute_result"
    }
   ],
   "source": [
    "len(new_data)"
   ]
  },
  {
   "cell_type": "code",
   "execution_count": 91,
   "metadata": {},
   "outputs": [
    {
     "data": {
      "text/plain": [
       "28134"
      ]
     },
     "execution_count": 91,
     "metadata": {},
     "output_type": "execute_result"
    }
   ],
   "source": [
    "14067*2"
   ]
  }
 ],
 "metadata": {
  "interpreter": {
   "hash": "41deb8b84ab2ada739f07881e8e586d917c574c77103188bda7a24bcbdeb316a"
  },
  "kernelspec": {
   "display_name": "Python 3.9.7 64-bit ('webscraping': conda)",
   "language": "python",
   "name": "python3"
  },
  "language_info": {
   "codemirror_mode": {
    "name": "ipython",
    "version": 3
   },
   "file_extension": ".py",
   "mimetype": "text/x-python",
   "name": "python",
   "nbconvert_exporter": "python",
   "pygments_lexer": "ipython3",
   "version": "3.9.7"
  },
  "orig_nbformat": 4
 },
 "nbformat": 4,
 "nbformat_minor": 2
}
